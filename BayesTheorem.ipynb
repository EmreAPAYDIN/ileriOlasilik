{
  "nbformat": 4,
  "nbformat_minor": 0,
  "metadata": {
    "colab": {
      "name": "BayesTheorem.ipynb",
      "version": "0.3.2",
      "provenance": [],
      "include_colab_link": true
    },
    "kernelspec": {
      "name": "python3",
      "display_name": "Python 3"
    }
  },
  "cells": [
    {
      "cell_type": "markdown",
      "metadata": {
        "id": "view-in-github",
        "colab_type": "text"
      },
      "source": [
        "<a href=\"https://colab.research.google.com/github/EmreAPAYDIN/ileriOlasilik/blob/master/BayesTheorem.ipynb\" target=\"_parent\"><img src=\"https://colab.research.google.com/assets/colab-badge.svg\" alt=\"Open In Colab\"/></a>"
      ]
    },
    {
      "metadata": {
        "id": "CAUNN-kPTArr",
        "colab_type": "text"
      },
      "cell_type": "markdown",
      "source": [
        "# PHYTON İLE BAYES TEOREMİ ÖRNEĞİ\n",
        "\n",
        "**Soru:**\n",
        "Bir danışmanlık  şirketin  üyeleri, 1.  işletmeden %60 , 2. işletmeden %30 ve 3. \n",
        "işletmeden %10 oranında olmak üzere üç işletmeden araba kiralamaktadırlar. 1. \n",
        "işletmeden gelen araçların %9’u, 2. işetmeden gelen araçların %20’si ve 3. \n",
        "işletmeden gelen araçların %6’sı bakım gerektiriyorsa,\n",
        "\n",
        "a)  Şirkete kiralanan bir aracın bakım gerektirme olasılığı nedir? \n",
        "\n",
        "b)  Bakım gerektiren aracın 2. işletmeden gelmiş olma olasılığı nedir? \n",
        "\n",
        "**Çözüm:**\n",
        "\n",
        "B: Bir arabanın bakım gerektirmesi,  \n",
        "\n",
        "Ai: Arabanın 1, 2 ya da 3. işletmeden gelme i= 1, 2, 3  olayları olsun.\n",
        "\n",
        "P(A1) = 0.60,      P(A2) = 0.30,    P(A3) = 0.10 \n",
        "\n",
        "P(B | A1) = 0.09,      P(B | A2) = 0.20,     P(B | A3) = 0.06\n",
        "\n",
        "a) P(B)→arabanın bakım gerektirme olasılığı soruluyor. Toplam olasılıktan yararlanılarak bulunur.  \n",
        "\n",
        "P(B)=P(B|A1).P(A1)+P(B|A2).P(A2)+P(B|A3).P(A3)\n",
        "\n",
        "        =0.6*0.09+0.3*0.2+0.1*0.06\n",
        "       \n",
        "        =0.12\n",
        "        \n",
        "Bu şirkette kiralanan araçların %12’sini bakım gerektirecektir.  \n",
        "\n",
        "b)  Danışmanlık  şirketinin kiraladığı araba bakım gerektiriyorsa bu arabanın 2. \n",
        "işletmeden gelmiş olma olasılığı Bayes teoreminden yararlanılarak bulunabilir.  \n",
        "\n",
        "P(A|B)=P(B|A2).P(A2)/PB\n",
        "\n",
        "            =0.30*.0.20/0.12\n",
        "            \n",
        "            =0.50\n",
        "\n",
        "danışmanlık  şirketinin kiraladığı arabalardan yalnızca%30’nun 2. işletmeden gelmesine \n",
        "karşın, bakım gerektiren arabaların yarısı (%50 si) 2. işletmeden gelmektedir.  \n",
        "\n",
        "\n",
        "\n",
        "\n",
        "\n",
        "\n",
        "\n",
        "\n"
      ]
    },
    {
      "metadata": {
        "id": "T1YRWiRwYgjG",
        "colab_type": "code",
        "colab": {
          "base_uri": "https://localhost:8080/",
          "height": 89
        },
        "outputId": "30d653c1-0398-4308-b587-a6c5a8331c1b"
      },
      "cell_type": "code",
      "source": [
        "# Emre APAYDIN\n",
        "\n",
        "def bayesTeoremi(a,b,c):\n",
        "\n",
        "    pA1=0.60       # P(A1):Arabanın 1.işletmeden gelme ihtimali \n",
        "    \n",
        "    pA2=0.30       # P(A2):Arabanın 2.işletmeden gelme ihtimali\n",
        "\n",
        "    pA3=0.10   # P(A3):Arabın 3.işletmden gelme ihitmali\n",
        "\n",
        "    pB1=0.09       # P(B|A1):1.işletmden gelen araçların bakım gerektirme olasılığı\n",
        "\n",
        "    pB2=0.20  # P(B|A2):2.işletmden gelen araçların bakım gerektirme olasılığı\n",
        "    \n",
        "    pB3=0.06  # P(B|A3):3.işletmden gelen araçların bakım gerektirme olasılığı\n",
        "    \n",
        "    pB=float((pA1*pB1)+(pA2*pB2)+(pA3*pB3))  #P(B):Arabanın bakım gerektirme olasılığı \n",
        "    \n",
        "    pAB=float((pA2*pB2)/pB) # P(A|B):Danışmanlık  şirketinin kiraladığı araba bakım gerektiriyorsa bu arabanın 2. işletmeden gelmiş olma olasılığı\n",
        "\n",
        "    return float(pAB)\n",
        "print(\"P(A1) = 0.60, P(A2) = 0.30, P(A3) = 0.10, P(B | A1) = 0.09, P(B | A2) = 0.20, P(B | A3) = 0.06\\n\")\n",
        "print(bayesTeoremi(0.6,0.3,0.1))\n"
      ],
      "execution_count": 2,
      "outputs": [
        {
          "output_type": "stream",
          "text": [
            "P(A1) = 0.60, P(A2) = 0.30, P(A3) = 0.10, P(B | A1) = 0.09, P(B | A2) = 0.20, P(B | A3) = 0.06\n",
            "\n",
            "0.5\n"
          ],
          "name": "stdout"
        }
      ]
    },
    {
      "metadata": {
        "id": "0GvNJOx3ozup",
        "colab_type": "text"
      },
      "cell_type": "markdown",
      "source": [
        "**Soru 2:**\n",
        "Yukarıdaki örnekte işletmenin araç kiraladığı şirketlerin oranını ve olasılığı hesaplanması istenen işletmenin kullanıcı tarafında girilmesini sağlayalım."
      ]
    },
    {
      "metadata": {
        "id": "aOg0laD9pom6",
        "colab_type": "code",
        "colab": {
          "base_uri": "https://localhost:8080/",
          "height": 121
        },
        "outputId": "f45eb9e9-fc5e-49a1-ea12-1e2701eda4c9"
      },
      "cell_type": "code",
      "source": [
        "\n",
        "def bayesTeoremi(a,b,c):\n",
        "\n",
        "    pA1=float(a)       # P(A1):Arabanın 1.işletmeden gelme ihtimali \n",
        "    \n",
        "    pA2=float(b)       # P(A2):Arabanın 2.işletmeden gelme ihtimali\n",
        "\n",
        "    pA3=float(1-(pA1+pA2))   # P(A3):Arabın 3.işletmden gelme ihitmali\n",
        "\n",
        "    pB1=0.09       # P(B|A1):1.işletmden gelen araçların bakım gerektirme olasılığı\n",
        "\n",
        "    pB2=0.20  # P(B|A2):2.işletmden gelen araçların bakım gerektirme olasılığı\n",
        "    \n",
        "    pB3=0.06  # P(B|A3):3.işletmden gelen araçların bakım gerektirme olasılığı\n",
        "    \n",
        "    pB=float((pA1*pB1)+(pA2*pB2)+(pA3*pB3))  #P(B):Arabanın bakım gerektirme olasılığı \n",
        "    \n",
        "    if(c==1):\n",
        "      pAB=float((pA1*pB1)/pB) \n",
        "    elif(c==2):                       \n",
        "      pAB=float((pA2*pB2)/pB)\n",
        "    elif(c==3):\n",
        "      pAB=float((pA3*pB3)/pB)\n",
        "    else:\n",
        "      return 0\n",
        "    return float(pAB)\n",
        "  \n",
        "print(\"P(B | A1) = 0.09, P(B | A2) = 0.20, P(B | A3) = 0.06\\n\")\n",
        "a=float(input(\"1.işletmeden gelen araçların sayısı: \"))\n",
        "b=float(input(\"2.işletmeden gelen araçların sayısı: \"))\n",
        "c=int(input(\"Araç bakım olasılığı hesaplanması istenen işletme no: \"))\n",
        "print(bayesTeoremi(a/100,b/100,c))\n"
      ],
      "execution_count": 3,
      "outputs": [
        {
          "output_type": "stream",
          "text": [
            "P(B | A1) = 0.09, P(B | A2) = 0.20, P(B | A3) = 0.06\n",
            "\n",
            "1.işletmeden gelen araçların sayısı: 60\n",
            "2.işletmeden gelen araçların sayısı: 30\n",
            "Araç bakım olasılığı hesaplanması istenen işletme no: 2\n",
            "0.5\n"
          ],
          "name": "stdout"
        }
      ]
    }
  ]
}