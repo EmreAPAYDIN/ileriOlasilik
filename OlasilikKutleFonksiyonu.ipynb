{
  "nbformat": 4,
  "nbformat_minor": 0,
  "metadata": {
    "colab": {
      "name": "OlasilikKutleFonksiyonu.ipynb",
      "version": "0.3.2",
      "provenance": [],
      "include_colab_link": true
    },
    "kernelspec": {
      "name": "python3",
      "display_name": "Python 3"
    }
  },
  "cells": [
    {
      "cell_type": "markdown",
      "metadata": {
        "id": "view-in-github",
        "colab_type": "text"
      },
      "source": [
        "<a href=\"https://colab.research.google.com/github/EmreAPAYDIN/ileriOlasilik/blob/master/OlasilikKutleFonksiyonu.ipynb\" target=\"_parent\"><img src=\"https://colab.research.google.com/assets/colab-badge.svg\" alt=\"Open In Colab\"/></a>"
      ]
    },
    {
      "metadata": {
        "id": "6f3Qigv5Pnyw",
        "colab_type": "text"
      },
      "cell_type": "markdown",
      "source": [
        "# PYTON İLE OLASILIK KÜTLE FONKSİYONU ÖRNEĞİ\n",
        "\n",
        "**Problem:**\n",
        "\n",
        "Bir torbada 4 adet yeşil 3 adet mavi olmak üzere toplam 7 adet top bulunmaktadır.Bu torbadan  2 adet top çekiliyor.Mavi top gelme sayısına ait kesikli olasılık dağılımını bulunuz.\n",
        "<hr>\n",
        "**Çözüm:**\n",
        "\n",
        "Rasgele değişken  X={0,1,2}\n",
        "\n",
        "**1.durum=Hiç mavi gelmeme durumu**\n",
        "\n",
        "YY P(X=0)=(4/7)*(3/6)=2/7\n",
        "\n",
        "**2.durum=Bir tane mavi gelme durumu**\n",
        "\n",
        "YM,MY P(X=1)=(4/7)*(3/6)+(3/7)*(4/6)=4/7\n",
        "\n",
        "**1.durum=İki tane mavi gelme durumu**\n",
        "\n",
        "MM P(X=2)=(3/7)*(2/6)=1/7\n",
        "\n",
        "<hr>\n",
        "\n",
        "<table border='1' width='200'>\n",
        "  <tr>\n",
        "    <td>X</td>\n",
        "    <td>0</td>\n",
        "    <td>1</td>\n",
        "    <td>2</td>\n",
        "  </tr>\n",
        "    <tr>\n",
        "    <td>P(X=x)</td>\n",
        "    <td>2/7</td>\n",
        "    <td>4/7</td>\n",
        "    <td>1/7</td>\n",
        "  </tr>\n",
        "  </table>"
      ]
    },
    {
      "metadata": {
        "id": "Dt9cVSCPPpIp",
        "colab_type": "code",
        "outputId": "1a4afc92-42ec-41d9-a85e-d7ce3045f2e3",
        "colab": {
          "base_uri": "https://localhost:8080/",
          "height": 68
        }
      },
      "cell_type": "code",
      "source": [
        "# Veri setinin frekansını bulma\n",
        "\n",
        "import collections\n",
        "x = ['y','y','y','y','m','m','m']\n",
        "counter = collections.Counter(x)\n",
        "print(counter)\n",
        "print(x)\n",
        "print(len(x))\n"
      ],
      "execution_count": 0,
      "outputs": [
        {
          "output_type": "stream",
          "text": [
            "Counter({'y': 4, 'm': 3})\n",
            "['y', 'y', 'y', 'y', 'm', 'm', 'm']\n",
            "7\n"
          ],
          "name": "stdout"
        }
      ]
    },
    {
      "metadata": {
        "id": "pW1any5xVped",
        "colab_type": "code",
        "outputId": "b2fc88ad-e1ed-4d1c-c5c5-cb1b79d47e47",
        "colab": {
          "base_uri": "https://localhost:8080/",
          "height": 68
        }
      },
      "cell_type": "code",
      "source": [
        "#1. Durum: Hiç gelmeme durumu\n",
        "#2. Durum: 1 tane gelme durumu\n",
        "#3. Durum: 2 tane gelme durumu\n",
        "\n",
        "pmf = []\n",
        "\n",
        "#1. Durum için\n",
        "d1=(counter['y']/len(x))*((counter['m'])/(len(x)-1))\n",
        "\n",
        "print(d1)\n",
        "#2. Durum için\n",
        "d2=(counter['y']/len(x))*((counter['m'])/(len(x)-1))+(counter['m']/len(x))*((counter['y'])/(len(x)-1))\n",
        "\n",
        "print(d2)\n",
        "#3. Durum için\n",
        "d3=(counter['m']/len(x))*((counter['m']-1)/(len(x)-1))\n",
        "\n",
        "print(d3)\n"
      ],
      "execution_count": 0,
      "outputs": [
        {
          "output_type": "stream",
          "text": [
            "0.2857142857142857\n",
            "0.5714285714285714\n",
            "0.14285714285714285\n"
          ],
          "name": "stdout"
        }
      ]
    },
    {
      "metadata": {
        "id": "bR1opJwwcsYD",
        "colab_type": "code",
        "outputId": "d85e86f1-8863-4cad-b8ef-6a4ca1e2be72",
        "colab": {
          "base_uri": "https://localhost:8080/",
          "height": 34
        }
      },
      "cell_type": "code",
      "source": [
        "import numpy as np\n",
        "pmf.append(d1)\n",
        "pmf.append(d2)\n",
        "pmf.append(d3)\n",
        "np.array(pmf).sum()\n",
        "print(pmf)"
      ],
      "execution_count": 0,
      "outputs": [
        {
          "output_type": "stream",
          "text": [
            "[0.2857142857142857, 0.5714285714285714, 0.14285714285714285]\n"
          ],
          "name": "stdout"
        }
      ]
    },
    {
      "metadata": {
        "id": "wsdYG1e8fJT1",
        "colab_type": "code",
        "outputId": "c3f0e400-9d57-4075-bc00-92e523194873",
        "colab": {
          "base_uri": "https://localhost:8080/",
          "height": 34
        }
      },
      "cell_type": "code",
      "source": [
        "ddd = ['Durum1','Durum2','Durum3']\n",
        "\n",
        "print(ddd)"
      ],
      "execution_count": 0,
      "outputs": [
        {
          "output_type": "stream",
          "text": [
            "['Durum1', 'Durum2', 'Durum3']\n"
          ],
          "name": "stdout"
        }
      ]
    },
    {
      "metadata": {
        "id": "PlWRpXg_c8aw",
        "colab_type": "code",
        "outputId": "0981dd73-7b42-4882-a7d4-016cea89b990",
        "colab": {
          "base_uri": "https://localhost:8080/",
          "height": 282
        }
      },
      "cell_type": "code",
      "source": [
        "import matplotlib.pyplot as plt\n",
        "%matplotlib inline\n",
        "plt.style.use('ggplot')\n",
        "plt.bar(ddd,pmf);\n",
        "plt.title(\"Olasılık Kütle Fonksiyonu\");"
      ],
      "execution_count": 0,
      "outputs": [
        {
          "output_type": "display_data",
          "data": {
            "image/png": "[encoded data removed]",
            "text/plain": [
              "<Figure size 432x288 with 1 Axes>"
            ]
          },
          "metadata": {
            "tags": []
          }
        }
      ]
    }
  ]
}