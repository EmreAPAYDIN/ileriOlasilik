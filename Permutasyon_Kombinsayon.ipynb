{
  "nbformat": 4,
  "nbformat_minor": 0,
  "metadata": {
    "colab": {
      "name": "Permutasyon_Kombinsayon.ipynb",
      "version": "0.3.2",
      "provenance": [],
      "collapsed_sections": [],
      "include_colab_link": true
    },
    "kernelspec": {
      "name": "python3",
      "display_name": "Python 3"
    }
  },
  "cells": [
    {
      "cell_type": "markdown",
      "metadata": {
        "id": "view-in-github",
        "colab_type": "text"
      },
      "source": [
        "<a href=\"https://colab.research.google.com/github/EmreAPAYDIN/ileriOlasilik/blob/master/Permutasyon_Kombinsayon.ipynb\" target=\"_parent\"><img src=\"https://colab.research.google.com/assets/colab-badge.svg\" alt=\"Open In Colab\"/></a>"
      ]
    },
    {
      "metadata": {
        "id": "aREo-jGyOXUn",
        "colab_type": "text"
      },
      "cell_type": "markdown",
      "source": [
        "# PHYTON İLE DÖNER PERMÜTASYON ÖRNEĞİ\n",
        "## Soru:\n",
        "Anne baba ve n sayıda çocuktan oluşan bir aile yuvarlak masa etrafına çocuklar yanyana olmak koşulu ile kaç farklı şekilde oturabilir?\n",
        "## Çözüm:\n",
        "Döner permütasyonlarda n kişi bir yuvarlak masa etrafına (n-1)! farklı biçimde oturabilir.Yer yön tayini için bir kişi feda edilir.\n",
        "Bizim örneğimizde r tane çocuk kendi içinde r! şeklinde oturabilir.3 çocuğun yan yana olma koşulu olduğu için 1 kişi gibi sayılır.Buradan;\n",
        "\n",
        "n=anne +baba +1\n",
        "\n",
        "n=3 \n",
        "\n",
        "n-1=2\n",
        "\n",
        "**Formül:** 2! * r!"
      ]
    },
    {
      "metadata": {
        "id": "n3RSne6RTCE1",
        "colab_type": "code",
        "colab": {}
      },
      "cell_type": "code",
      "source": [
        "def faktoriyelHesapla(i):\n",
        "    \n",
        "    if i==1:       \n",
        "        return 1\n",
        "    \n",
        "    else: \n",
        "        return i * faktoriyelHesapla(i-1)\n",
        "    \n",
        "def permutasyonHesapla(j):\n",
        "    \n",
        "     l = faktoriyelHesapla(j)*faktoriyelHesapla(2)\n",
        "     return l"
      ],
      "execution_count": 0,
      "outputs": []
    },
    {
      "metadata": {
        "id": "8gePK52HUg7R",
        "colab_type": "code",
        "colab": {
          "base_uri": "https://localhost:8080/",
          "height": 104
        },
        "outputId": "69e230ba-c5b9-429d-906c-c4855a91aad0"
      },
      "cell_type": "code",
      "source": [
        "print(\"Anne baba ve n sayıda çocuktan oluşan bir aile yuvarlak masa etrafına \\nçocuklar yanyana olmak koşulu ile kaç farklı şekilde oturabilir?\")   \n",
        " \n",
        "sayi1 = int(input(\"Çocuk Sayısını Giriniz: \"))\n",
        "  \n",
        "print(\"\\nSonuç:\", permutasyonHesapla(sayi1),\"farklı şekilde oturulabilir.\" )"
      ],
      "execution_count": 24,
      "outputs": [
        {
          "output_type": "stream",
          "text": [
            "Anne baba ve n sayıda çocuktan oluşan bir aile yuvarlak masa etrafına \n",
            "çocuklar yanyana olmak koşulu ile kaç farklı şekilde oturabilir?\n",
            "Çocuk Sayısını Giriniz: 4\n",
            "\n",
            "Sonuç: 48 farklı şekilde oturabilir.\n"
          ],
          "name": "stdout"
        }
      ]
    },
    {
      "metadata": {
        "id": "PFva9T7pV29D",
        "colab_type": "text"
      },
      "cell_type": "markdown",
      "source": [
        "# PHYTON İLE KOMBİNASYON ÖRNEĞİ\n",
        "## Soru:\n",
        "4 şirkete toplamda 10 bin dolar yatırım kaç farklı şekilde yapılabilir?\n",
        "## Çözüm:\n",
        "Bu soru kombinasyoda gruplama sorularına aittir.Bölme metodu kullanılacaktır.\n",
        "Bölme metodu: n eleman ve x-1 eleman birbiri ile aynı ise;tekrarlı permütasyonu:\n",
        "(Hepsi!)/(Tekrar edilenler!)\n",
        "\n",
        "(n+x-1)! / n!(x-1)!\n",
        "\n",
        "Bizim sorumuzda n=10, x=4 'tür."
      ]
    },
    {
      "metadata": {
        "id": "ErgOxDPsY4kt",
        "colab_type": "code",
        "colab": {
          "base_uri": "https://localhost:8080/",
          "height": 104
        },
        "outputId": "50672975-6d25-419c-9a6a-08967539a8b6"
      },
      "cell_type": "code",
      "source": [
        "def faktoriyelHesapla(i):\n",
        "    \n",
        "    if i==1:       \n",
        "        return 1\n",
        "    \n",
        "    else: \n",
        "        return i * faktoriyelHesapla(i-1)\n",
        "    \n",
        "def kombinasyonHesapla(n,x):\n",
        "    \n",
        "    \n",
        "   \n",
        "    if(n==x):\n",
        "        return 1\n",
        "    \n",
        "    elif(n>x):\n",
        "               \n",
        "        s= faktoriyelHesapla(n+x-1) #n+x-1 faktöriyel\n",
        "              \n",
        "        l= faktoriyelHesapla(n) #n faktöriyel\n",
        "        \n",
        "        f= faktoriyelHesapla(x-1) #x-1 faktöriyel\n",
        "        \n",
        "        w=s/(l*f)\n",
        "        return w\n",
        "    \n",
        "    \n",
        "print(\"Kombinasyon hesabı için lütfen sayıları giriniz.\")   \n",
        " \n",
        "sayi1 = int(input(\"Yatırım yapılacak miktarı giriniz($): \"))\n",
        " \n",
        "sayi2 = int(input(\"Yatırım yapılacak şirket sayısını giriniz:\")) \n",
        " \n",
        "print(\"\\nSonuç:\",kombinasyonHesapla(sayi1,sayi2),\"farklı şekilde dağıtılabilir.\" )"
      ],
      "execution_count": 26,
      "outputs": [
        {
          "output_type": "stream",
          "text": [
            "Kombinasyon hesabı için lütfen sayıları giriniz.\n",
            "Yatırım yapılacak miktarı giriniz(bin $): 10\n",
            "Yatırım yapılacak şirket sayısını giriniz:10\n",
            "\n",
            "Sonuç: 1 farklı şekilde dağıtılabilir.\n"
          ],
          "name": "stdout"
        }
      ]
    }
  ]
}