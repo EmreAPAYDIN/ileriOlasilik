{
  "nbformat": 4,
  "nbformat_minor": 0,
  "metadata": {
    "colab": {
      "name": "Varyans_Bernoulli_Binomial.ipynb",
      "version": "0.3.2",
      "provenance": [],
      "include_colab_link": true
    },
    "kernelspec": {
      "name": "python3",
      "display_name": "Python 3"
    }
  },
  "cells": [
    {
      "cell_type": "markdown",
      "metadata": {
        "id": "view-in-github",
        "colab_type": "text"
      },
      "source": [
        "<a href=\"https://colab.research.google.com/github/EmreAPAYDIN/ileriOlasilik/blob/master/Varyans_Bernoulli_Binomial.ipynb\" target=\"_parent\"><img src=\"https://colab.research.google.com/assets/colab-badge.svg\" alt=\"Open In Colab\"/></a>"
      ]
    },
    {
      "cell_type": "markdown",
      "metadata": {
        "id": "lyppvo-9PHag",
        "colab_type": "text"
      },
      "source": [
        "# VARYANS\n",
        "\n",
        "## Varyans Nedir?\n",
        "\n",
        "Varyans, verilerin aritmetik ortalamadan sapmalarının karelerinin toplamıdır. Yani standart sapmanın karekök alınmamış halidir.\n",
        "\n",
        "## Standart Sapma Nedir?\n",
        "\n",
        "Verilerin (notların) aritmetik ortalamadan sapmalarının karelerinin aritmetik ortalamasının kare köküdür.\n",
        "\n",
        "**Örnek soru:**\n",
        "Bir sınıftaki öğrencilerin  Kimya dersi sınav notlarının varyansını hesaplayınız.\n",
        "\n",
        "**Çözüm:**\n",
        "\n",
        "\n",
        "\n"
      ]
    },
    {
      "cell_type": "code",
      "metadata": {
        "id": "Se8nX7sRfo_i",
        "colab_type": "code",
        "colab": {}
      },
      "source": [
        "import numpy as np\n",
        "def varyansHesaplama(sınıfMevcudu):   #varyansı hesaplayacak fonk.tanımlandı\n",
        "  notlar=[]\n",
        "  i=0\n",
        "  while i<sınıfMevcudu :\n",
        "      k=int(input(str(i+1)+\".notu giriniz:\"))\n",
        "      notlar.append(k)\n",
        "      i+=1\n",
        "  z=0 \n",
        "  Ex=0 #her bir değişkenin yani notun olasılığı ile çarpılıp toplamının \n",
        "       #tutalacağı değer yani ortalama not.\n",
        "  while z<sınıfMevcudu:\n",
        "    x=(1/sınıfMevcudu)*notlar[z] #1/sınıf mevcudu=her bir notun gelme olasılığı\n",
        "    Ex+=x\n",
        "    z+=1\n",
        "\n",
        "  import math\n",
        "  varyans=0\n",
        "  i=0\n",
        "  while i<sınıfMevcudu:\n",
        "    #varyans her bir notun alınma olasılığı ile o notun ortalama nota olan farkının\n",
        "    #karesinin çarpımıdır.\n",
        "    x=(1/sınıfMevcudu)*pow((notlar[i]-Ex),2)\n",
        "    varyans+=x\n",
        "    i+=1\n",
        "  print(\"Ex=\"+str(Ex))\n",
        "  print(\"varyans=\"+str(varyans))\n",
        "  #standart sapma ise varyans değerinin kareköküdür.ç\n",
        "  print(\"standart sapma=\"+str(pow(varyans,1/2)))"
      ],
      "execution_count": 0,
      "outputs": []
    },
    {
      "cell_type": "code",
      "metadata": {
        "id": "CxXskvJDswbP",
        "colab_type": "code",
        "colab": {
          "base_uri": "https://localhost:8080/",
          "height": 173
        },
        "outputId": "170e532d-1537-4456-9282-61c54ea62ea7"
      },
      "source": [
        "sınıfMevcudu=int(input(\"sınıf mevcudunu giriniz:\"))\n",
        "varyansHesaplama(sınıfMevcudu)"
      ],
      "execution_count": 61,
      "outputs": [
        {
          "output_type": "stream",
          "text": [
            "sınıf mevcudunu giriniz:5\n",
            "1.notu giriniz:10\n",
            "2.notu giriniz:20\n",
            "3.notu giriniz:30\n",
            "4.notu giriniz:40\n",
            "5.notu giriniz:50\n",
            "Ex=30.0\n",
            "varyans=200.0\n",
            "standart sapma=14.142135623730951\n"
          ],
          "name": "stdout"
        }
      ]
    },
    {
      "cell_type": "markdown",
      "metadata": {
        "id": "rF3kclYowxMB",
        "colab_type": "text"
      },
      "source": [
        "# BERNOULLİ DAĞILIMI\n",
        "\n",
        "Bir deneyde başarı ve başarısızlık diye nitelendirilen iki sonuçla ilgilenildiğinde bu deneye\n",
        "(iki sonuçlu) Bernoulli deneyi ya da Bernoulli denemesi denir.\n",
        "\n",
        "**Basarı olasılıgı** ⇒ p, (0 < p < 1) \n",
        "\n",
        "**Basarısızlık olasılıgı** ⇒ 1 - p = q\n",
        "\n",
        "başarı-başarısız/ sağlam-bozuk/ olumlu-olumsuz/ ölü-canlı\n",
        "\n",
        "**Bernoulli dağılımının olasılık fonksiyonu**\n",
        "\n",
        "$\\ P(X = x) = px(1-p)1-x,  x = 0,1$\n",
        "\n",
        "$\\ E[X]= ∑ xP(X = x) = 0(1-p) + 1p = p$\n",
        "\n",
        "$\\ E[X^2]= ∑ x^2P(X = x^2) = 0^2(1-p) + 1^2p = p$\n",
        "\n",
        "$\\ Var(X) = E[X^2]-E[X]^2 = p - p^2 = p(1-p)$\n",
        "\n",
        "\n",
        "**Örnek soru:**\n",
        "\n",
        "Bir sınıfta Kimya dersinden geçenler %70 kalanlar %30 dur.Buna göre bernolulli dağılım fonksiyonunu hesaplayınız.\n",
        "\n",
        "\n"
      ]
    },
    {
      "cell_type": "code",
      "metadata": {
        "id": "iO8482A37ckE",
        "colab_type": "code",
        "colab": {
          "base_uri": "https://localhost:8080/",
          "height": 35
        },
        "outputId": "4185deff-23a4-4eb7-ad5f-41da93438383"
      },
      "source": [
        "import math\n",
        "def bernoulliHesapla(x):\n",
        "  \n",
        "  p= x # Başarı Durumu\n",
        "  q= 1-p # Başarısızlık Durumu\n",
        "  \n",
        "  m=q*0+p*1 #dağılımın ortalaması(beklenen değer=Ex)\n",
        "  varyans=q*pow((0-p),2)+p*pow((1-p),2)#varyans hesaplama\n",
        "  \n",
        "  return varyans\n",
        "\n",
        "yaz= bernoulliHesapla(0.7)\n",
        "print(yaz)\n"
      ],
      "execution_count": 65,
      "outputs": [
        {
          "output_type": "stream",
          "text": [
            "0.21000000000000002\n"
          ],
          "name": "stdout"
        }
      ]
    },
    {
      "cell_type": "markdown",
      "metadata": {
        "id": "pOzrC4kJ6ZVz",
        "colab_type": "text"
      },
      "source": [
        "#BİNOM DAĞILIMI\n",
        "\n",
        "Başarı olasılığı **p** olan bir Bernoulli denemesinin aynı şartlar altında (bağımsız olarak) n kez\n",
        "tekrarlanması ile oluşan deneye binom deneyi denir.\n",
        "\n",
        "Binom deneyinin aşağıdaki koşulları sağlaması gerekir:\n",
        "\n",
        "- Deney süresince örneklemde denek sayısı ya da deneme sayısı değişmez olmalıdır.\n",
        "- Denemeler birbirinden bağımsızdır.\n",
        "- Her denemede iki olası sonuç vardır (istenen ve istenmeyen olay).\n",
        "- Her denemede ilgilenilen olay olasılığı **p** değişmezdir. Dolayısıyla istenmeyen olay\n",
        "olasılığı **q=1-p** de değişmezdir.\n",
        "\n",
        "Binom dağılımı kesikli bir olasılık dağılımıdır. rasgele değişkeni binom dağılımına sahip\n",
        "olduğunda **X~Bin(n,p)** ile gösterilir\n",
        "\n",
        "\n",
        "**Örnek soru:**\n",
        "\n",
        "Bir kutuda bulunan 10 tabletten 5 tanesi aspirindir. Bu kutudan yerine koyarak 3\n",
        "tablet çekildiğinde 2 tanesinin aspirin olması olasılığı nedir?\n",
        "\n",
        " X=Çekilen tabletin aspirin olması\n",
        " \n",
        " X~Bin(n = 3 , p = 0.5)\n",
        " \n",
        " $\\ P(X = k) = {n \\choose k} p^k(1 - p)^{n-k}, k = 2  $\n",
        " \n",
        "  $\\ P(X = 2) = {3 \\choose 2} 0.5^2(1 - 0.5)^{3-2}, k = 2  $\n",
        "  "
      ]
    },
    {
      "cell_type": "code",
      "metadata": {
        "id": "RyRAWNLZAy3g",
        "colab_type": "code",
        "colab": {}
      },
      "source": [
        "def faktoriyelHesapla(i):\n",
        "    \n",
        "    if i==1:       \n",
        "        return 1\n",
        "    \n",
        "    else: \n",
        "        return i * faktoriyelHesapla(i-1)\n",
        "w=0  \n",
        "def kombinasyonHesapla(n,k):\n",
        "    \n",
        "    \n",
        "    \n",
        "    if(n==x):\n",
        "        return 1\n",
        "    \n",
        "    elif(n>x):\n",
        "               \n",
        "        s= faktoriyelHesapla(n) \n",
        "              \n",
        "        l= faktoriyelHesapla(k) \n",
        "        \n",
        "        f= faktoriyelHesapla(n-k)\n",
        "        \n",
        "        w=s/(l*f)\n",
        "        return w\n",
        "      \n",
        "def binomHesapla(x,n,k):\n",
        "    p= x \n",
        "    q= 1-p\n",
        "    us=n-k\n",
        "    s=kombinasyonHesapla(3,2)\n",
        "    binom=pow(p,2)*pow(q,us)*s\n",
        "    return binom\n",
        "  \n",
        "yaz=binomHesapla(0.5,3,2)\n",
        "#print(kombinasyonHesapla(3,2))\n",
        "print(yaz)"
      ],
      "execution_count": 0,
      "outputs": []
    }
  ]
}